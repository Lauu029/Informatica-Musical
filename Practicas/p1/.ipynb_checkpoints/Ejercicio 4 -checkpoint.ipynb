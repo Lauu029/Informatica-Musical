{
 "cells": [
  {
   "cell_type": "markdown",
   "id": "5598c8c8",
   "metadata": {},
   "source": [
    "# Miriam Martín Sánchez"
   ]
  },
  {
   "cell_type": "markdown",
   "id": "e29ae83e",
   "metadata": {},
   "source": [
    "# Laura Gómez Bodego"
   ]
  },
  {
   "cell_type": "markdown",
   "id": "122b2f34",
   "metadata": {},
   "source": [
    "#### Ejercicio 4"
   ]
  },
  {
   "cell_type": "code",
   "execution_count": 1,
   "id": "fd0a5094",
   "metadata": {},
   "outputs": [],
   "source": [
    "import matplotlib.pyplot as plt\n",
    "import numpy as np\n",
    "import time\n",
    "# gráficos en el notebook\n",
    "%matplotlib inline\n",
    "SRATE = 441000 # Sample rate, para todo el programa"
   ]
  },
  {
   "cell_type": "markdown",
   "id": "0fc54546",
   "metadata": {},
   "source": [
    "Oscilador"
   ]
  },
  {
   "cell_type": "code",
   "execution_count": null,
   "id": "a949876c",
   "metadata": {},
   "outputs": [],
   "source": [
    "def osc(freq,dur=1,amp=1,phase=0, srate =  441000):\n",
    "    # Calcula el tamaño del array en función de la duración y la tasa de muestreo\n",
    "    size = int(dur * SRATE)\n",
    "     # Calcula la señal sinusoidal con la frecuencia, amplitud y fase especificadas\n",
    "    t = np.arange(size) / SRATE\n",
    "    signal = amp * np.sin(2 * np.pi * freq * t + phase)\n",
    "    \n",
    "    return signal"
   ]
  },
  {
   "cell_type": "raw",
   "id": "bc5b5582",
   "metadata": {},
   "source": [
    "Modulador"
   ]
  },
  {
   "cell_type": "code",
   "execution_count": null,
   "id": "c4c62ebc",
   "metadata": {},
   "outputs": [],
   "source": [
    "def modulator(sample, freq):\n",
    "    modulator_signal = osc(freq, len(sample)/SRATE, 1/2) + 0.5\n",
    "    modulated_signal = sample * modulator_signal\n",
    "    return modulated_signal"
   ]
  },
  {
   "cell_type": "code",
   "execution_count": null,
   "id": "bfe1d618",
   "metadata": {},
   "outputs": [],
   "source": [
    "#ruido de entrada\n",
    "dur = 1\n",
    "noise = np.random.uniform(-1, 1, int(dur * SRATE))\n",
    "\n",
    "mod_freq = 2  # Frecuencia del modulador\n",
    "\n",
    "modulated_signal = modulator(noise, mod_freq)"
   ]
  },
  {
   "cell_type": "code",
   "execution_count": null,
   "id": "612f4405",
   "metadata": {},
   "outputs": [],
   "source": []
  },
  {
   "cell_type": "code",
   "execution_count": null,
   "id": "dcbaf7e1",
   "metadata": {},
   "outputs": [],
   "source": []
  },
  {
   "cell_type": "code",
   "execution_count": null,
   "id": "d5f468ec",
   "metadata": {},
   "outputs": [],
   "source": []
  }
 ],
 "metadata": {
  "kernelspec": {
   "display_name": "Python 3 (ipykernel)",
   "language": "python",
   "name": "python3"
  },
  "language_info": {
   "codemirror_mode": {
    "name": "ipython",
    "version": 3
   },
   "file_extension": ".py",
   "mimetype": "text/x-python",
   "name": "python",
   "nbconvert_exporter": "python",
   "pygments_lexer": "ipython3",
   "version": "3.11.4"
  }
 },
 "nbformat": 4,
 "nbformat_minor": 5
}
