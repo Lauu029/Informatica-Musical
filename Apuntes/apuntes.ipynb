{
 "cells": [
  {
   "cell_type": "markdown",
   "metadata": {},
   "source": [
    "### STEREO\n",
    "Una misma señal que esta cogida en distintas posiciones \n",
    "La señal mono sacaria una linea recta en el ejey la señal estero serian puntos al rededor del ejeY\n",
    "\n",
    "### FILTROS\n",
    "le doy un chunk y me da un CHUNK modificado\n",
    "cuando hay un desfase al apilcar un filtro->dar la vuelta a la señal aplicar de nuevo el\n",
    "filtro e invertir de nuevo y esto hace que la señal ya no esta en desfase\n",
    "\n",
    "### SINTETIZADOR\n",
    "Dispositivo electronico de generación de sonido\n",
    "- Envolventes:hacer mas realista el sonido simulando la forma envolvente de la nota\n",
    "    "
   ]
  }
 ],
 "metadata": {
  "language_info": {
   "name": "python"
  }
 },
 "nbformat": 4,
 "nbformat_minor": 2
}
